{
 "cells": [
  {
   "cell_type": "markdown",
   "id": "8e3e63aa-d740-4d7d-83fc-75c60e1bfa0f",
   "metadata": {},
   "source": [
    "# Automatic File Sorter in File Explorer"
   ]
  },
  {
   "cell_type": "code",
   "execution_count": 3,
   "id": "5153d696-9724-4e7c-9301-2ad7e98bb91f",
   "metadata": {},
   "outputs": [],
   "source": [
    "import os, shutil"
   ]
  },
  {
   "cell_type": "code",
   "execution_count": null,
   "id": "f129af44-f593-4acf-b475-5bbfe98e41f7",
   "metadata": {},
   "outputs": [],
   "source": [
    "path = r\"/file/path\""
   ]
  },
  {
   "cell_type": "code",
   "execution_count": 21,
   "id": "cf8f0bc6-d68d-442a-a7b0-0aa0790a59ba",
   "metadata": {},
   "outputs": [
    {
     "data": {
      "text/plain": [
       "['.DS_Store',\n",
       " 'Sample.docx',\n",
       " '2.jpg',\n",
       " '3.jpg',\n",
       " '1.jpg',\n",
       " 'Data Professional Results.xlsx']"
      ]
     },
     "execution_count": 21,
     "metadata": {},
     "output_type": "execute_result"
    }
   ],
   "source": [
    "os.listdir(path)"
   ]
  },
  {
   "cell_type": "code",
   "execution_count": 23,
   "id": "3b893334-ae2b-4513-9ce2-1ac42df3c54f",
   "metadata": {},
   "outputs": [
    {
     "data": {
      "text/plain": [
       "False"
      ]
     },
     "execution_count": 23,
     "metadata": {},
     "output_type": "execute_result"
    }
   ],
   "source": [
    "os.path.exists(path + 'xlsx files') #checks if the path exists"
   ]
  },
  {
   "cell_type": "code",
   "execution_count": 43,
   "id": "cf16c3e1-8fa3-4ecf-8330-9896b4aeaa24",
   "metadata": {},
   "outputs": [],
   "source": [
    "folder_names = ['xlsx files', 'image files', 'docx files']\n",
    "\n",
    "for loop in range(0,3):\n",
    "    if not os.path.exists(path + folder_names[loop]):\n",
    "        #print(path + folder_names[loop])\n",
    "        os.makedirs((path + folder_names[loop]))\n",
    "\n",
    "for file in file_name:\n",
    "    if \".xlsx\" in file and not os.path.exists(path + \"xlsx files/\" + file):\n",
    "        shutil.move(path + file, path + \"xlsx files/\" + file)\n",
    "    elif \".jpg\" in file and not os.path.exists(path + \"image files/\" + file):\n",
    "        shutil.move(path + file, path + \"image files/\" + file)\n",
    "    elif \".docx\" in file and not os.path.exists(path + \"docx files/\" + file):\n",
    "        shutil.move(path + file, path + \"docx files/\" + file)"
   ]
  },
  {
   "cell_type": "code",
   "execution_count": 33,
   "id": "a2cd2ef7-d007-4817-b6c3-d4e5a056951b",
   "metadata": {},
   "outputs": [],
   "source": [
    "file_name = os.listdir(path)"
   ]
  }
 ],
 "metadata": {
  "kernelspec": {
   "display_name": "Python [conda env:base] *",
   "language": "python",
   "name": "conda-base-py"
  },
  "language_info": {
   "codemirror_mode": {
    "name": "ipython",
    "version": 3
   },
   "file_extension": ".py",
   "mimetype": "text/x-python",
   "name": "python",
   "nbconvert_exporter": "python",
   "pygments_lexer": "ipython3",
   "version": "3.12.7"
  }
 },
 "nbformat": 4,
 "nbformat_minor": 5
}
