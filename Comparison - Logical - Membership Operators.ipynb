{
 "cells": [
  {
   "cell_type": "markdown",
   "id": "57af971e-3f08-48ce-b833-5778b06ee3f1",
   "metadata": {},
   "source": [
    "# Comparison Operators"
   ]
  },
  {
   "cell_type": "markdown",
   "id": "e196e3e1-6cfb-44cf-af8d-040c7fef1c9d",
   "metadata": {},
   "source": [
    "| Operator | Name |\n",
    "|----------|------|\n",
    "|==        |Equal |\n",
    "|!=        |Not Equal |\n",
    "|>         |Greater Than |\n",
    "|<         |Less Than |\n",
    "|>=        |Greater Than or Equal To |\n",
    "|<=        |Less Than or Equal To |"
   ]
  },
  {
   "cell_type": "code",
   "execution_count": 14,
   "id": "8ed14bc3-3d87-4b3b-93c0-65b4740da97e",
   "metadata": {},
   "outputs": [
    {
     "ename": "SyntaxError",
     "evalue": "cannot assign to literal here. Maybe you meant '==' instead of '='? (260838114.py, line 1)",
     "output_type": "error",
     "traceback": [
      "\u001b[0;36m  Cell \u001b[0;32mIn[14], line 1\u001b[0;36m\u001b[0m\n\u001b[0;31m    10 = 10\u001b[0m\n\u001b[0m    ^\u001b[0m\n\u001b[0;31mSyntaxError\u001b[0m\u001b[0;31m:\u001b[0m cannot assign to literal here. Maybe you meant '==' instead of '='?\n"
     ]
    }
   ],
   "source": [
    "10 = 10"
   ]
  },
  {
   "cell_type": "code",
   "execution_count": 16,
   "id": "224ffb75-e981-47a8-950a-7803e96fc9b1",
   "metadata": {},
   "outputs": [
    {
     "data": {
      "text/plain": [
       "True"
      ]
     },
     "execution_count": 16,
     "metadata": {},
     "output_type": "execute_result"
    }
   ],
   "source": [
    "10 == 10"
   ]
  },
  {
   "cell_type": "code",
   "execution_count": 18,
   "id": "9ae7556f-d481-4323-94c0-d186f5d8ce65",
   "metadata": {},
   "outputs": [
    {
     "data": {
      "text/plain": [
       "False"
      ]
     },
     "execution_count": 18,
     "metadata": {},
     "output_type": "execute_result"
    }
   ],
   "source": [
    "10 == 50"
   ]
  },
  {
   "cell_type": "code",
   "execution_count": 20,
   "id": "83c23d27-73ed-43a4-aee2-12fe5cd2492a",
   "metadata": {},
   "outputs": [
    {
     "data": {
      "text/plain": [
       "True"
      ]
     },
     "execution_count": 20,
     "metadata": {},
     "output_type": "execute_result"
    }
   ],
   "source": [
    "10 != 50"
   ]
  },
  {
   "cell_type": "code",
   "execution_count": 22,
   "id": "b90d769a-4922-43e5-aedc-272ba9d02f54",
   "metadata": {},
   "outputs": [
    {
     "data": {
      "text/plain": [
       "False"
      ]
     },
     "execution_count": 22,
     "metadata": {},
     "output_type": "execute_result"
    }
   ],
   "source": [
    "'vanilla' == 'chocolate'"
   ]
  },
  {
   "cell_type": "code",
   "execution_count": 24,
   "id": "f6a66f5a-f746-46da-9800-0e49aa0c7571",
   "metadata": {},
   "outputs": [
    {
     "data": {
      "text/plain": [
       "True"
      ]
     },
     "execution_count": 24,
     "metadata": {},
     "output_type": "execute_result"
    }
   ],
   "source": [
    "'vanilla' == 'vanilla'"
   ]
  },
  {
   "cell_type": "code",
   "execution_count": 26,
   "id": "f9e22cc5-6c87-47ee-886f-0ed01edc7cd4",
   "metadata": {},
   "outputs": [],
   "source": [
    "x = 'vanilla'\n",
    "y = 'chocolate'"
   ]
  },
  {
   "cell_type": "code",
   "execution_count": 28,
   "id": "6f97248d-c7de-4a05-84ed-9ed5cb11dcca",
   "metadata": {},
   "outputs": [
    {
     "data": {
      "text/plain": [
       "False"
      ]
     },
     "execution_count": 28,
     "metadata": {},
     "output_type": "execute_result"
    }
   ],
   "source": [
    "x == y"
   ]
  },
  {
   "cell_type": "code",
   "execution_count": 30,
   "id": "c9b4e5f6-9503-42bc-9720-28865dc3e56f",
   "metadata": {},
   "outputs": [
    {
     "data": {
      "text/plain": [
       "True"
      ]
     },
     "execution_count": 30,
     "metadata": {},
     "output_type": "execute_result"
    }
   ],
   "source": [
    "x != y"
   ]
  },
  {
   "cell_type": "code",
   "execution_count": 32,
   "id": "7f15b784-adfb-4b6f-a5c3-d88324445b8e",
   "metadata": {},
   "outputs": [
    {
     "data": {
      "text/plain": [
       "True"
      ]
     },
     "execution_count": 32,
     "metadata": {},
     "output_type": "execute_result"
    }
   ],
   "source": [
    "10 < 50"
   ]
  },
  {
   "cell_type": "code",
   "execution_count": 34,
   "id": "9f4a129e-3462-44dd-8b1b-eec560477ee6",
   "metadata": {},
   "outputs": [
    {
     "data": {
      "text/plain": [
       "False"
      ]
     },
     "execution_count": 34,
     "metadata": {},
     "output_type": "execute_result"
    }
   ],
   "source": [
    "10 < 10"
   ]
  },
  {
   "cell_type": "code",
   "execution_count": 36,
   "id": "fcace27e-bc58-4440-ac39-38985df6f403",
   "metadata": {},
   "outputs": [
    {
     "data": {
      "text/plain": [
       "True"
      ]
     },
     "execution_count": 36,
     "metadata": {},
     "output_type": "execute_result"
    }
   ],
   "source": [
    "10 <= 10"
   ]
  },
  {
   "cell_type": "code",
   "execution_count": 38,
   "id": "8049b627-b533-4aa2-9dd2-28f70a46c618",
   "metadata": {},
   "outputs": [
    {
     "data": {
      "text/plain": [
       "False"
      ]
     },
     "execution_count": 38,
     "metadata": {},
     "output_type": "execute_result"
    }
   ],
   "source": [
    "50 <= 10"
   ]
  },
  {
   "cell_type": "code",
   "execution_count": 40,
   "id": "a6e4d7c6-d448-45d8-8f10-e6846389dac5",
   "metadata": {},
   "outputs": [
    {
     "data": {
      "text/plain": [
       "True"
      ]
     },
     "execution_count": 40,
     "metadata": {},
     "output_type": "execute_result"
    }
   ],
   "source": [
    "10 >= 10"
   ]
  },
  {
   "cell_type": "code",
   "execution_count": 65,
   "id": "23a40edd-77b3-4e2d-a69b-f73b23977688",
   "metadata": {},
   "outputs": [
    {
     "data": {
      "text/plain": [
       "True"
      ]
     },
     "execution_count": 65,
     "metadata": {},
     "output_type": "execute_result"
    }
   ],
   "source": [
    "50 >= 10"
   ]
  },
  {
   "cell_type": "code",
   "execution_count": null,
   "id": "4861c087-8e30-47cf-b34e-b43a7fd705a3",
   "metadata": {},
   "outputs": [],
   "source": []
  },
  {
   "cell_type": "markdown",
   "id": "82bc9c4b-1873-4708-af68-bac32a007399",
   "metadata": {},
   "source": [
    "# Logical Operators"
   ]
  },
  {
   "cell_type": "markdown",
   "id": "c1e9ecfb-fa46-422d-88bd-76b534d9dec0",
   "metadata": {},
   "source": [
    "| Operator | Description |\n",
    "|-|-|\n",
    "|and|Returns True if both statements are true |\n",
    "|or|Returns True if one of the statements is true |\n",
    "|not|Reverse the result, returns False if the result is true |"
   ]
  },
  {
   "cell_type": "code",
   "execution_count": 51,
   "id": "ed82fdb6-f75a-49f6-bf0d-09b7d27fbae5",
   "metadata": {},
   "outputs": [
    {
     "data": {
      "text/plain": [
       "False"
      ]
     },
     "execution_count": 51,
     "metadata": {},
     "output_type": "execute_result"
    }
   ],
   "source": [
    "10 > 50"
   ]
  },
  {
   "cell_type": "code",
   "execution_count": 53,
   "id": "b9dec843-31f0-47c3-bf53-682f57a17ea3",
   "metadata": {},
   "outputs": [
    {
     "data": {
      "text/plain": [
       "False"
      ]
     },
     "execution_count": 53,
     "metadata": {},
     "output_type": "execute_result"
    }
   ],
   "source": [
    "(10 > 50) and (50 > 10)"
   ]
  },
  {
   "cell_type": "code",
   "execution_count": 55,
   "id": "71a7b445-8668-46d0-b293-df6addacea25",
   "metadata": {},
   "outputs": [
    {
     "data": {
      "text/plain": [
       "True"
      ]
     },
     "execution_count": 55,
     "metadata": {},
     "output_type": "execute_result"
    }
   ],
   "source": [
    "(70 > 50) and (50 > 10)"
   ]
  },
  {
   "cell_type": "code",
   "execution_count": 57,
   "id": "71590be5-0d37-45f6-b1f4-e670dfb3ff3d",
   "metadata": {},
   "outputs": [
    {
     "data": {
      "text/plain": [
       "True"
      ]
     },
     "execution_count": 57,
     "metadata": {},
     "output_type": "execute_result"
    }
   ],
   "source": [
    "(10 > 50) or (50 > 10)"
   ]
  },
  {
   "cell_type": "code",
   "execution_count": 59,
   "id": "c69395a2-9c53-4a68-b0b3-34bf61e307cf",
   "metadata": {},
   "outputs": [
    {
     "data": {
      "text/plain": [
       "True"
      ]
     },
     "execution_count": 59,
     "metadata": {},
     "output_type": "execute_result"
    }
   ],
   "source": [
    "('Vanilla' > 'Chocolate')"
   ]
  },
  {
   "cell_type": "code",
   "execution_count": 61,
   "id": "c47468b7-dabb-419f-bcb5-2d927df0dbf2",
   "metadata": {},
   "outputs": [
    {
     "data": {
      "text/plain": [
       "True"
      ]
     },
     "execution_count": 61,
     "metadata": {},
     "output_type": "execute_result"
    }
   ],
   "source": [
    "('Vanilla' > 'Chocolate') and (50 > 10)"
   ]
  },
  {
   "cell_type": "code",
   "execution_count": 63,
   "id": "903ab307-af07-4b34-9fd6-bbb92f9d0a6b",
   "metadata": {},
   "outputs": [
    {
     "data": {
      "text/plain": [
       "False"
      ]
     },
     "execution_count": 63,
     "metadata": {},
     "output_type": "execute_result"
    }
   ],
   "source": [
    "not (50 > 10)"
   ]
  },
  {
   "cell_type": "code",
   "execution_count": null,
   "id": "99423a0d-b95a-4137-8d2f-f84b9a841e17",
   "metadata": {},
   "outputs": [],
   "source": []
  },
  {
   "cell_type": "markdown",
   "id": "c95bbce5-3a91-409c-9205-582c1afc2cb5",
   "metadata": {},
   "source": [
    "# Membership Operators"
   ]
  },
  {
   "cell_type": "markdown",
   "id": "f6486a1a-3dc7-4324-ae9e-d18819ee1ca9",
   "metadata": {},
   "source": [
    "| Operator | Description |\n",
    "|-|-|\n",
    "|in|Returns True if a sequence with the specified value is present in the object |\n",
    "|not in|Returns True if a sequence with the specified value is not present in the object |"
   ]
  },
  {
   "cell_type": "code",
   "execution_count": 71,
   "id": "a4bac8d3-c8e2-4a19-9eb1-4d042cd03010",
   "metadata": {},
   "outputs": [],
   "source": [
    "ice_cream = 'I love chocolate ice cream'"
   ]
  },
  {
   "cell_type": "code",
   "execution_count": 73,
   "id": "c4e35171-4343-422b-a9e0-b264b7965c20",
   "metadata": {},
   "outputs": [
    {
     "data": {
      "text/plain": [
       "True"
      ]
     },
     "execution_count": 73,
     "metadata": {},
     "output_type": "execute_result"
    }
   ],
   "source": [
    "'love' in ice_cream"
   ]
  },
  {
   "cell_type": "code",
   "execution_count": 75,
   "id": "5639c1a7-34c9-4850-b728-e3b4b629a2fa",
   "metadata": {},
   "outputs": [
    {
     "data": {
      "text/plain": [
       "False"
      ]
     },
     "execution_count": 75,
     "metadata": {},
     "output_type": "execute_result"
    }
   ],
   "source": [
    "'hate' in ice_cream"
   ]
  },
  {
   "cell_type": "code",
   "execution_count": 77,
   "id": "50f3cebc-c6d2-4b3d-9199-e0f481ffbe6c",
   "metadata": {},
   "outputs": [
    {
     "data": {
      "text/plain": [
       "True"
      ]
     },
     "execution_count": 77,
     "metadata": {},
     "output_type": "execute_result"
    }
   ],
   "source": [
    "'chocolate' in ice_cream"
   ]
  },
  {
   "cell_type": "code",
   "execution_count": 79,
   "id": "3df1b6c6-87ca-49d4-9e72-70601c4b1104",
   "metadata": {},
   "outputs": [
    {
     "data": {
      "text/plain": [
       "False"
      ]
     },
     "execution_count": 79,
     "metadata": {},
     "output_type": "execute_result"
    }
   ],
   "source": [
    "'Chocolate' in ice_cream"
   ]
  },
  {
   "cell_type": "code",
   "execution_count": 81,
   "id": "98a9109f-1080-43fd-9e20-c2e4931bd138",
   "metadata": {},
   "outputs": [],
   "source": [
    "scoops = [1,2,3,4,5]"
   ]
  },
  {
   "cell_type": "code",
   "execution_count": 83,
   "id": "ea9f1fe3-0a5f-499f-bfa7-fb6dbe58d04e",
   "metadata": {},
   "outputs": [
    {
     "data": {
      "text/plain": [
       "True"
      ]
     },
     "execution_count": 83,
     "metadata": {},
     "output_type": "execute_result"
    }
   ],
   "source": [
    "2 in scoops"
   ]
  },
  {
   "cell_type": "code",
   "execution_count": 85,
   "id": "b0d7cd83-1b1f-43af-84fa-ab166aceee96",
   "metadata": {},
   "outputs": [
    {
     "data": {
      "text/plain": [
       "False"
      ]
     },
     "execution_count": 85,
     "metadata": {},
     "output_type": "execute_result"
    }
   ],
   "source": [
    "6 in scoops"
   ]
  },
  {
   "cell_type": "code",
   "execution_count": 87,
   "id": "1094b276-ebae-472c-9b59-30187b26ddd6",
   "metadata": {},
   "outputs": [
    {
     "data": {
      "text/plain": [
       "True"
      ]
     },
     "execution_count": 87,
     "metadata": {},
     "output_type": "execute_result"
    }
   ],
   "source": [
    "6 not in scoops"
   ]
  },
  {
   "cell_type": "code",
   "execution_count": 89,
   "id": "35e07fcf-13ed-4913-9db3-fba5bdd02681",
   "metadata": {},
   "outputs": [],
   "source": [
    "wanted_scoops = 8"
   ]
  },
  {
   "cell_type": "code",
   "execution_count": 91,
   "id": "e8682610-54a2-4d8c-a6a6-2dc02e4c6120",
   "metadata": {},
   "outputs": [
    {
     "data": {
      "text/plain": [
       "True"
      ]
     },
     "execution_count": 91,
     "metadata": {},
     "output_type": "execute_result"
    }
   ],
   "source": [
    "wanted_scoops not in scoops"
   ]
  },
  {
   "cell_type": "code",
   "execution_count": 95,
   "id": "804eeee1-89fc-461c-8dce-b2d0ff1f6a0c",
   "metadata": {},
   "outputs": [
    {
     "data": {
      "text/plain": [
       "False"
      ]
     },
     "execution_count": 95,
     "metadata": {},
     "output_type": "execute_result"
    }
   ],
   "source": [
    "wanted_scoops in scoops"
   ]
  },
  {
   "cell_type": "code",
   "execution_count": null,
   "id": "2ff15576-187d-4a9d-806c-30a9545bd933",
   "metadata": {},
   "outputs": [],
   "source": []
  }
 ],
 "metadata": {
  "kernelspec": {
   "display_name": "Python [conda env:base] *",
   "language": "python",
   "name": "conda-base-py"
  },
  "language_info": {
   "codemirror_mode": {
    "name": "ipython",
    "version": 3
   },
   "file_extension": ".py",
   "mimetype": "text/x-python",
   "name": "python",
   "nbconvert_exporter": "python",
   "pygments_lexer": "ipython3",
   "version": "3.12.7"
  }
 },
 "nbformat": 4,
 "nbformat_minor": 5
}
